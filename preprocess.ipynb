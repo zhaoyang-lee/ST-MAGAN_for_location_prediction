{
 "cells": [
  {
   "cell_type": "markdown",
   "id": "ebcbf244",
   "metadata": {},
   "source": [
    "# preprocess\n",
    "0. Get basic information\n",
    "1. Add \"region\" column\n",
    "2. Add \"time_delta\" and \"dist_delta\" columns data\n",
    "3. Split dataset to train and test data.\n",
    "4. Get vector of every POI and region using node2vec\n",
    "5. Calation the distance of between every 2 region as the weight of \"Region-Graph1\"\n",
    "6. Calculate the visit times between 2 regions in time_period as the weight of Graph2\n",
    "7. Save all data as corresponding files\n"
   ]
  },
  {
   "cell_type": "code",
   "execution_count": 1,
   "id": "47193387",
   "metadata": {},
   "outputs": [],
   "source": [
    "import pandas as pd\n",
    "import numpy as np\n",
    "import geohash\n",
    "from geopy.distance import distance\n",
    "import datetime\n",
    "from tqdm import tqdm\n",
    "from collections import Counter\n",
    "import random\n",
    "import pickle"
   ]
  },
  {
   "cell_type": "code",
   "execution_count": 2,
   "id": "7f928cce",
   "metadata": {},
   "outputs": [
    {
     "name": "stderr",
     "output_type": "stream",
     "text": [
      "100%|\u001b[34m███████████████████████████████████\u001b[0m| 79631/79631 [00:53<00:00, 1480.78it/s]\u001b[0m\n",
      "100%|\u001b[34m██████████████████████████████████\u001b[0m| 79631/79631 [00:03<00:00, 19947.74it/s]\u001b[0m"
     ]
    },
    {
     "name": "stdout",
     "output_type": "stream",
     "text": [
      "    user                time   latitude  longitude  location region  \\\n",
      "0      0 2010-09-24 14:58:57  30.267910 -97.749312     21714  9v6kp   \n",
      "1      0 2010-09-24 21:32:13  30.269103 -97.749395    420315  9v6kp   \n",
      "2      0 2010-09-25 02:00:54  30.317016 -97.719569   1145567  9v6s2   \n",
      "3      0 2010-09-25 19:21:51  30.244761 -97.748961     25151  9v6kp   \n",
      "4      0 2010-09-26 16:43:45  30.250618 -97.765900    121955  9v6kp   \n",
      "5      0 2010-09-27 14:52:01  30.269103 -97.749395    420315  9v6kp   \n",
      "6      0 2010-09-28 23:47:07  30.231375 -97.797455     15590  9v67y   \n",
      "7      0 2010-09-29 00:31:24  30.237911 -97.799961    539065  9v6kn   \n",
      "8      0 2010-09-30 23:23:22  30.264336 -97.741046    211286  9v6kp   \n",
      "9      0 2010-10-01 14:36:39  30.267910 -97.749312     21714  9v6kp   \n",
      "10     0 2010-10-02 01:48:43  30.255814 -97.763418   4256132  9v6kp   \n",
      "11     0 2010-10-02 22:21:22  30.405304 -97.878399   1151119  9v6ku   \n",
      "12     0 2010-10-03 22:21:49  30.244860 -97.757163     18417  9v6kp   \n",
      "13     0 2010-10-04 14:46:01  30.267910 -97.749312     21714  9v6kp   \n",
      "14     0 2010-10-05 16:10:35  30.269103 -97.749395    420315  9v6kp   \n",
      "15     0 2010-10-05 23:02:31  30.245361 -97.779093     16431  9v6kn   \n",
      "16     0 2010-10-05 23:11:39  30.231650 -97.800171     49215  9v67y   \n",
      "17     0 2010-10-06 23:25:34  30.269103 -97.749395    420315  9v6kp   \n",
      "18     0 2010-10-12 15:19:03  30.269103 -97.749395    420315  9v6kp   \n",
      "19     0 2010-10-12 15:57:20  30.281120 -97.745211    153505  9v6kr   \n",
      "20     0 2010-10-12 19:44:40  30.269103 -97.749395    420315  9v6kp   \n",
      "21     0 2010-10-12 22:02:11  30.267910 -97.749312     21714  9v6kp   \n",
      "22     0 2010-10-12 23:58:03  30.261599 -97.758581     15372  9v6kp   \n",
      "23     0 2010-10-16 18:50:42  30.274292 -97.740523   5535878  9v6kp   \n",
      "24     0 2010-10-17 19:26:05  30.263418 -97.757597     16516  9v6kp   \n",
      "25     0 2010-10-17 23:42:03  30.255731 -97.763386    316637  9v6kp   \n",
      "26     0 2010-10-18 22:17:43  30.269103 -97.749395    420315  9v6kp   \n",
      "27     0 2010-10-19 23:55:27  30.235909 -97.795140     22847  9v6kn   \n",
      "28     5 2010-02-24 03:11:44  30.307915 -97.750550     11365  9v6kr   \n",
      "29     5 2010-02-24 18:28:53  30.263821 -97.763364      9267  9v6kp   \n",
      "\n",
      "    time_delta  dist_delta  \n",
      "0          0.0        0.00  \n",
      "1      23596.0      132.53  \n",
      "2      16121.0     6036.96  \n",
      "3      62457.0     8494.49  \n",
      "4      76914.0     1754.81  \n",
      "5      79696.0     2592.64  \n",
      "6     118506.0     6235.95  \n",
      "7       2657.0      763.65  \n",
      "8     168718.0     6382.14  \n",
      "9      54797.0      888.62  \n",
      "10     40324.0     1907.98  \n",
      "11     73959.0    19922.23  \n",
      "12     86427.0    21267.32  \n",
      "13     59052.0     2664.59  \n",
      "14     91474.0      132.53  \n",
      "15     24716.0     3885.23  \n",
      "16       548.0     2535.15  \n",
      "17     87235.0     6412.48  \n",
      "18    489209.0        0.00  \n",
      "19      2297.0     1391.73  \n",
      "20     13640.0     1391.73  \n",
      "21      8251.0      132.53  \n",
      "22      6952.0     1133.48  \n",
      "23    327159.0     2235.89  \n",
      "24     88523.0     2037.73  \n",
      "25     15358.0     1018.12  \n",
      "26     81340.0     2002.50  \n",
      "27     92264.0     5737.80  \n",
      "28         0.0        0.00  \n",
      "29     55029.0     5041.16  \n",
      "there are totally 594 regions\n",
      "there are totally 2844 users\n",
      "there are totally 16054 locations\n"
     ]
    },
    {
     "name": "stderr",
     "output_type": "stream",
     "text": [
      "\n"
     ]
    }
   ],
   "source": [
    "data_path = \"./modeldata/gowalla/dataset_gowalla.csv\"\n",
    "# gowalla,brightkite --5; foursquareNY,foursquareTK--6\n",
    "region_size = 5\n",
    "\n",
    "data = pd.read_csv(data_path, parse_dates=['time'], infer_datetime_format=True)\n",
    "data = data.sort_values(by=['user','time'], ascending=True)\n",
    "data = data.reset_index(drop=True)\n",
    "\n",
    "#data.loc[53703, \"longitude\"] = -0.0001\n",
    "# get \"region\" column\n",
    "data[\"gps\"] = data[\"latitude\"].apply(lambda x:str(x)) + \",\" + data[\"longitude\"].apply(lambda x:str(x))\n",
    "data[\"region\"] = data[\"gps\"].apply(lambda x:geohash.encode(float(x.split(\",\")[0]), float(x.split(\",\")[1]))[:region_size])\n",
    "# get \"time_delta\" column\n",
    "data[\"time_delta\"] = data[\"time\"].diff()\n",
    "data[\"time_delta\"] = data[\"time_delta\"].astype('timedelta64[s]').astype(float)\n",
    "data.loc[pd.isnull(data[\"time_delta\"]), \"time_delta\"] = 0\n",
    "# get \"dist_delta\" column\n",
    "data[\"dist_delta\"] = [0 for i in range(len(data))]\n",
    "for i in tqdm(range(1, len(data)), ncols=80, colour=\"blue\"):\n",
    "    loc_i = data.loc[i,\"gps\"].strip(\",\")\n",
    "    loc_j = data.loc[i-1,\"gps\"].strip(\",\")\n",
    "    data.loc[i, \"dist_delta\"] = round(distance(loc_i, loc_j).m ,2)\n",
    "for i in tqdm(range(1, len(data)), ncols=80, colour=\"blue\"):\n",
    "    if data.loc[i,\"user\"] != data.loc[i-1,\"user\"]:\n",
    "        data.loc[i, \"time_delta\"] = 0\n",
    "        data.loc[i, \"dist_delta\"] = 0\n",
    "\n",
    "data = data.drop('gps', axis=1)\n",
    "print(data.head(30))\n",
    "\n",
    "regions_num = len(set(data[\"region\"]))\n",
    "user_num = len(set(data[\"user\"]))\n",
    "location_num = len(set(data[\"location\"]))\n",
    "print(f\"there are totally {regions_num} regions\")\n",
    "print(f\"there are totally {user_num} users\")\n",
    "print(f\"there are totally {location_num} locations\")"
   ]
  },
  {
   "cell_type": "code",
   "execution_count": 3,
   "id": "d74cb63f",
   "metadata": {},
   "outputs": [],
   "source": [
    "def split_data(data, ratio):\n",
    "    user_set = set(data[\"user\"])\n",
    "    train_user, test_user = set(), set()\n",
    "    # gowalla--6; brightkite--6,foursquareNY--10,foursquareTK--10\n",
    "    random.seed(6)\n",
    "    for i in user_set:\n",
    "        ra = random.random()\n",
    "        if ra < 0.8:\n",
    "            train_user.add(i)\n",
    "        else:\n",
    "            test_user.add(i)\n",
    "    print(f\"there are {len(train_user)} users in train set\")\n",
    "    print(f\"there are {len(test_user)} users in test set\")\n",
    "    print(\"the rate of train set and test set is\",len(train_user)/len(test_user))\n",
    "    train_data = pd.DataFrame(columns=list(data.columns))\n",
    "    test_data = pd.DataFrame(columns=list(data.columns))\n",
    "    for i in tqdm(train_user,ncols=80, colour=\"blue\"):\n",
    "        train_data = pd.concat([data[data[\"user\"]==i], train_data])\n",
    "    for j in tqdm(test_user,ncols=80, colour=\"blue\"):\n",
    "        test_data = pd.concat([data[data[\"user\"]==j], test_data])\n",
    "    train_POI_num = len(set(train_data[\"location\"]))\n",
    "    print(f\"there are {train_POI_num} POIs in train set,{round(train_POI_num/location_num*100,2)}% of all\")\n",
    "    return train_data, test_data"
   ]
  },
  {
   "cell_type": "code",
   "execution_count": 4,
   "id": "71e555c8",
   "metadata": {},
   "outputs": [
    {
     "name": "stdout",
     "output_type": "stream",
     "text": [
      "there are 2256 users in train set\n",
      "there are 588 users in test set\n",
      "the rate of train set and test set is 3.836734693877551\n"
     ]
    },
    {
     "name": "stderr",
     "output_type": "stream",
     "text": [
      "100%|\u001b[34m██████████████████████████████████████\u001b[0m| 2256/2256 [00:09<00:00, 236.75it/s]\u001b[0m\n",
      "100%|\u001b[34m████████████████████████████████████████\u001b[0m| 588/588 [00:01<00:00, 428.71it/s]\u001b[0m\n"
     ]
    },
    {
     "name": "stdout",
     "output_type": "stream",
     "text": [
      "there are 14121 POIs in train set,87.96% of all\n"
     ]
    }
   ],
   "source": [
    "train_data, test_data = split_data(data, ratio=0.8)\n",
    "train_data = train_data.reset_index(drop=True)\n",
    "test_data = test_data.reset_index(drop=True)\n",
    "filepath = \"./modeldata/gowalla/\"\n",
    "train_data.to_csv(filepath+\"train_data.csv\",index=0)\n",
    "test_data.to_csv(filepath+\"test_data.csv\", index=0)"
   ]
  },
  {
   "cell_type": "markdown",
   "id": "5fecdd53",
   "metadata": {},
   "source": [
    "# POI2Vec\n",
    "get word2idx, idx2word, poi_embedding"
   ]
  },
  {
   "cell_type": "code",
   "execution_count": 5,
   "id": "d4af1664",
   "metadata": {
    "scrolled": true
   },
   "outputs": [
    {
     "name": "stdout",
     "output_type": "stream",
     "text": [
      "loaction number of train data =  14121\n",
      "- -- -- -- -- -- -- -- -- -- -\n",
      "----------start training----------\n",
      "epoch 0 iteration 0 256.69427490234375\n",
      "epoch 0 iteration 300 255.176513671875\n",
      "epoch 0 iteration 600 232.31893920898438\n",
      "epoch 0 iteration 900 231.271240234375\n",
      "epoch 1 iteration 0 223.53216552734375\n",
      "epoch 1 iteration 300 218.6048126220703\n",
      "epoch 1 iteration 600 213.3433074951172\n",
      "epoch 1 iteration 900 203.63412475585938\n",
      "epoch 2 iteration 0 208.79315185546875\n",
      "epoch 2 iteration 300 209.73739624023438\n",
      "epoch 2 iteration 600 195.9639892578125\n",
      "epoch 2 iteration 900 194.16796875\n",
      "epoch 3 iteration 0 179.53750610351562\n",
      "epoch 3 iteration 300 171.20785522460938\n",
      "epoch 3 iteration 600 171.16656494140625\n",
      "epoch 3 iteration 900 155.7832794189453\n",
      "epoch 4 iteration 0 154.16192626953125\n",
      "epoch 4 iteration 300 143.3174591064453\n",
      "epoch 4 iteration 600 131.94546508789062\n",
      "epoch 4 iteration 900 136.5543212890625\n",
      "epoch 5 iteration 0 119.89389038085938\n",
      "epoch 5 iteration 300 112.84535217285156\n",
      "epoch 5 iteration 600 121.93624877929688\n",
      "epoch 5 iteration 900 107.79238891601562\n",
      "epoch 6 iteration 0 106.86456298828125\n",
      "epoch 6 iteration 300 106.26616668701172\n",
      "epoch 6 iteration 600 100.69860076904297\n",
      "epoch 6 iteration 900 97.94020080566406\n",
      "epoch 7 iteration 0 88.869384765625\n",
      "epoch 7 iteration 300 74.31259155273438\n",
      "epoch 7 iteration 600 74.85995483398438\n",
      "epoch 7 iteration 900 66.48968505859375\n",
      "epoch 8 iteration 0 64.47207641601562\n",
      "epoch 8 iteration 300 53.40302276611328\n",
      "epoch 8 iteration 600 60.17285919189453\n",
      "epoch 8 iteration 900 66.86906433105469\n",
      "epoch 9 iteration 0 52.63908004760742\n",
      "epoch 9 iteration 300 65.58444213867188\n",
      "epoch 9 iteration 600 50.12445068359375\n",
      "epoch 9 iteration 900 39.347843170166016\n",
      "epoch 10 iteration 0 44.028263092041016\n",
      "epoch 10 iteration 300 41.0614013671875\n",
      "epoch 10 iteration 600 38.68607711791992\n",
      "epoch 10 iteration 900 44.85154342651367\n",
      "epoch 11 iteration 0 32.50904846191406\n",
      "epoch 11 iteration 300 35.4504280090332\n",
      "epoch 11 iteration 600 39.510406494140625\n",
      "epoch 11 iteration 900 36.96744155883789\n",
      "epoch 12 iteration 0 30.817604064941406\n",
      "epoch 12 iteration 300 30.60188102722168\n",
      "epoch 12 iteration 600 28.677127838134766\n",
      "epoch 12 iteration 900 26.709068298339844\n",
      "epoch 13 iteration 0 30.22236442565918\n",
      "epoch 13 iteration 300 27.800893783569336\n",
      "epoch 13 iteration 600 26.99597930908203\n",
      "epoch 13 iteration 900 26.821636199951172\n",
      "epoch 14 iteration 0 23.683021545410156\n",
      "epoch 14 iteration 300 25.621944427490234\n",
      "epoch 14 iteration 600 21.498065948486328\n",
      "epoch 14 iteration 900 24.052186965942383\n",
      "epoch 15 iteration 0 23.99713134765625\n",
      "epoch 15 iteration 300 20.422203063964844\n",
      "epoch 15 iteration 600 18.58348274230957\n",
      "epoch 15 iteration 900 24.527238845825195\n",
      "epoch 16 iteration 0 17.652788162231445\n",
      "epoch 16 iteration 300 20.452789306640625\n",
      "epoch 16 iteration 600 22.55353355407715\n",
      "epoch 16 iteration 900 21.689834594726562\n",
      "epoch 17 iteration 0 17.727458953857422\n",
      "epoch 17 iteration 300 19.0772762298584\n",
      "epoch 17 iteration 600 17.090192794799805\n",
      "epoch 17 iteration 900 16.409143447875977\n",
      "epoch 18 iteration 0 15.938071250915527\n",
      "epoch 18 iteration 300 14.87955093383789\n",
      "epoch 18 iteration 600 15.266887664794922\n",
      "epoch 18 iteration 900 14.868890762329102\n",
      "epoch 19 iteration 0 17.243595123291016\n",
      "epoch 19 iteration 300 14.092853546142578\n",
      "epoch 19 iteration 600 12.994226455688477\n",
      "epoch 19 iteration 900 15.80518913269043\n",
      "epoch 20 iteration 0 14.625008583068848\n",
      "epoch 20 iteration 300 13.278019905090332\n",
      "epoch 20 iteration 600 12.817276000976562\n",
      "epoch 20 iteration 900 12.772204399108887\n",
      "epoch 21 iteration 0 13.042606353759766\n",
      "epoch 21 iteration 300 10.668815612792969\n",
      "epoch 21 iteration 600 11.370382308959961\n",
      "epoch 21 iteration 900 12.591245651245117\n",
      "epoch 22 iteration 0 9.937422752380371\n",
      "epoch 22 iteration 300 11.482994079589844\n",
      "epoch 22 iteration 600 11.890563011169434\n",
      "epoch 22 iteration 900 14.130924224853516\n",
      "epoch 23 iteration 0 10.621713638305664\n",
      "epoch 23 iteration 300 11.564205169677734\n",
      "epoch 23 iteration 600 11.45280647277832\n",
      "epoch 23 iteration 900 10.124945640563965\n",
      "epoch 24 iteration 0 10.378368377685547\n",
      "epoch 24 iteration 300 9.086508750915527\n",
      "epoch 24 iteration 600 11.131148338317871\n",
      "epoch 24 iteration 900 8.875202178955078\n",
      "epoch 25 iteration 0 8.325085639953613\n",
      "epoch 25 iteration 300 9.708014488220215\n",
      "epoch 25 iteration 600 10.261263847351074\n",
      "epoch 25 iteration 900 9.781970024108887\n",
      "epoch 26 iteration 0 8.724909782409668\n",
      "epoch 26 iteration 300 8.563974380493164\n",
      "epoch 26 iteration 600 9.060871124267578\n",
      "epoch 26 iteration 900 9.079976081848145\n",
      "epoch 27 iteration 0 8.38677978515625\n",
      "epoch 27 iteration 300 8.578973770141602\n",
      "epoch 27 iteration 600 8.74001693725586\n",
      "epoch 27 iteration 900 7.450770378112793\n",
      "epoch 28 iteration 0 8.205973625183105\n",
      "epoch 28 iteration 300 8.229262351989746\n",
      "epoch 28 iteration 600 7.579774856567383\n",
      "epoch 28 iteration 900 7.496829986572266\n",
      "epoch 29 iteration 0 7.3780622482299805\n",
      "epoch 29 iteration 300 7.751194953918457\n",
      "epoch 29 iteration 600 8.2098388671875\n",
      "epoch 29 iteration 900 6.590771675109863\n",
      "16054\n",
      "(21932, 100)\n",
      "Wall time: 32min 11s\n"
     ]
    }
   ],
   "source": [
    "%%time\n",
    "from node2vec import node2vec\n",
    "Node2Vec_P = node2vec(data, train_data, filepath, node = \"location\")\n",
    "print(\"loaction number of train data = \",len(set(train_data[\"location\"])))\n",
    "POI2idx, idx2POI, poi_embedding = Node2Vec_P.get_vec(C = 2, K = 15, epoch = 2,\n",
    "                                                     MAX_VOCAB_SIZE = 20000,\n",
    "                                                     EMBEDDING_SIZE = 100,\n",
    "                                                     batch_size = 64,\n",
    "                                                     lr = 0.001)\n",
    "print(len(POI2idx))\n",
    "print(poi_embedding.shape)"
   ]
  },
  {
   "cell_type": "code",
   "execution_count": 6,
   "id": "1e780c3b",
   "metadata": {},
   "outputs": [
    {
     "name": "stdout",
     "output_type": "stream",
     "text": [
      "poi_embedding.shape =  (21932, 100)\n",
      "16054\n",
      "16054\n"
     ]
    }
   ],
   "source": [
    "import numpy as np\n",
    "import pickle\n",
    "poi_embedding = np.load(filepath +\"location\"+ 'embedding.npy')\n",
    "print(\"poi_embedding.shape = \",poi_embedding.shape)\n",
    "with open(filepath +\"location\"+'idx2node.pickle', 'rb') as f:\n",
    "    idx2POI = pickle.load(f)\n",
    "print(len(idx2POI))\n",
    "with open(filepath +\"location\"+'node2idx.pickle', 'rb') as f:\n",
    "    POI2idx = pickle.load(f)\n",
    "print(len(POI2idx))"
   ]
  },
  {
   "cell_type": "markdown",
   "id": "438fc537",
   "metadata": {},
   "source": [
    "# Region2Vec"
   ]
  },
  {
   "cell_type": "code",
   "execution_count": 7,
   "id": "40a5b6f1",
   "metadata": {},
   "outputs": [
    {
     "name": "stdout",
     "output_type": "stream",
     "text": [
      "- -- -- -- -- -- -- -- -- -- -\n",
      "----------start training----------\n",
      "epoch 0 iteration 0 615.6592407226562\n",
      "epoch 0 iteration 300 242.82127380371094\n",
      "epoch 0 iteration 600 168.8892364501953\n",
      "epoch 0 iteration 900 102.94479370117188\n",
      "epoch 1 iteration 0 111.2987060546875\n",
      "epoch 1 iteration 300 89.10466003417969\n",
      "epoch 1 iteration 600 63.6519660949707\n",
      "epoch 1 iteration 900 70.28202056884766\n",
      "epoch 2 iteration 0 73.64806365966797\n",
      "epoch 2 iteration 300 59.85749053955078\n",
      "epoch 2 iteration 600 46.93395233154297\n",
      "epoch 2 iteration 900 48.37794494628906\n",
      "epoch 3 iteration 0 49.073551177978516\n",
      "epoch 3 iteration 300 59.65852355957031\n",
      "epoch 3 iteration 600 40.528072357177734\n",
      "epoch 3 iteration 900 47.431884765625\n",
      "epoch 4 iteration 0 45.318172454833984\n",
      "epoch 4 iteration 300 44.669857025146484\n",
      "epoch 4 iteration 600 40.87523651123047\n",
      "epoch 4 iteration 900 39.6197509765625\n",
      "epoch 5 iteration 0 40.70005798339844\n",
      "epoch 5 iteration 300 41.39249801635742\n",
      "epoch 5 iteration 600 42.50654983520508\n",
      "epoch 5 iteration 900 39.80904769897461\n",
      "epoch 6 iteration 0 41.244354248046875\n",
      "epoch 6 iteration 300 39.56297302246094\n",
      "epoch 6 iteration 600 40.62329864501953\n",
      "epoch 6 iteration 900 40.345436096191406\n",
      "epoch 7 iteration 0 38.5837516784668\n",
      "epoch 7 iteration 300 39.57315444946289\n",
      "epoch 7 iteration 600 42.175621032714844\n",
      "epoch 7 iteration 900 39.3967399597168\n",
      "epoch 8 iteration 0 41.393310546875\n",
      "epoch 8 iteration 300 38.06355667114258\n",
      "epoch 8 iteration 600 36.91065216064453\n",
      "epoch 8 iteration 900 37.738685607910156\n",
      "epoch 9 iteration 0 39.636295318603516\n",
      "epoch 9 iteration 300 41.12910461425781\n",
      "epoch 9 iteration 600 40.028236389160156\n",
      "epoch 9 iteration 900 37.74589920043945\n",
      "epoch 10 iteration 0 39.50358581542969\n",
      "epoch 10 iteration 300 38.52545166015625\n",
      "epoch 10 iteration 600 37.406578063964844\n",
      "epoch 10 iteration 900 42.76362609863281\n",
      "epoch 11 iteration 0 38.27043533325195\n",
      "epoch 11 iteration 300 37.60182571411133\n",
      "epoch 11 iteration 600 37.35032272338867\n",
      "epoch 11 iteration 900 38.63029098510742\n",
      "epoch 12 iteration 0 39.40766906738281\n",
      "epoch 12 iteration 300 37.919647216796875\n",
      "epoch 12 iteration 600 39.29949951171875\n",
      "epoch 12 iteration 900 36.426326751708984\n",
      "epoch 13 iteration 0 39.788063049316406\n",
      "epoch 13 iteration 300 36.190818786621094\n",
      "epoch 13 iteration 600 37.07242202758789\n",
      "epoch 13 iteration 900 37.800697326660156\n",
      "epoch 14 iteration 0 37.80765914916992\n",
      "epoch 14 iteration 300 36.78835678100586\n",
      "epoch 14 iteration 600 40.004947662353516\n",
      "epoch 14 iteration 900 36.414276123046875\n",
      "epoch 15 iteration 0 38.551265716552734\n",
      "epoch 15 iteration 300 36.88804244995117\n",
      "epoch 15 iteration 600 37.41507339477539\n",
      "epoch 15 iteration 900 38.621124267578125\n",
      "epoch 16 iteration 0 36.39127731323242\n",
      "epoch 16 iteration 300 38.046722412109375\n",
      "epoch 16 iteration 600 36.30497360229492\n",
      "epoch 16 iteration 900 37.91118621826172\n",
      "epoch 17 iteration 0 37.03294372558594\n",
      "epoch 17 iteration 300 38.52702331542969\n",
      "epoch 17 iteration 600 38.00183868408203\n",
      "epoch 17 iteration 900 37.7578010559082\n",
      "epoch 18 iteration 0 36.91518020629883\n",
      "epoch 18 iteration 300 39.118255615234375\n",
      "epoch 18 iteration 600 38.07080078125\n",
      "epoch 18 iteration 900 37.98281478881836\n",
      "epoch 19 iteration 0 39.10789108276367\n",
      "epoch 19 iteration 300 38.45573425292969\n",
      "epoch 19 iteration 600 37.191200256347656\n",
      "epoch 19 iteration 900 39.13251495361328\n",
      "epoch 20 iteration 0 36.684600830078125\n",
      "epoch 20 iteration 300 37.30494689941406\n",
      "epoch 20 iteration 600 36.733612060546875\n",
      "epoch 20 iteration 900 39.16835403442383\n",
      "epoch 21 iteration 0 37.68156051635742\n",
      "epoch 21 iteration 300 36.82427978515625\n",
      "epoch 21 iteration 600 35.717769622802734\n",
      "epoch 21 iteration 900 36.82061004638672\n",
      "epoch 22 iteration 0 36.150691986083984\n",
      "epoch 22 iteration 300 37.71286392211914\n",
      "epoch 22 iteration 600 37.29365539550781\n",
      "epoch 22 iteration 900 36.562530517578125\n",
      "epoch 23 iteration 0 38.58067321777344\n",
      "epoch 23 iteration 300 37.60618591308594\n",
      "epoch 23 iteration 600 38.38419723510742\n",
      "epoch 23 iteration 900 37.12648010253906\n",
      "epoch 24 iteration 0 36.80711364746094\n",
      "epoch 24 iteration 300 38.333412170410156\n",
      "epoch 24 iteration 600 37.5859260559082\n",
      "epoch 24 iteration 900 37.18061828613281\n",
      "epoch 25 iteration 0 37.33380889892578\n",
      "epoch 25 iteration 300 38.63487243652344\n",
      "epoch 25 iteration 600 36.05562973022461\n",
      "epoch 25 iteration 900 37.276023864746094\n",
      "epoch 26 iteration 0 38.13920593261719\n",
      "epoch 26 iteration 300 34.7111930847168\n",
      "epoch 26 iteration 600 36.00267791748047\n",
      "epoch 26 iteration 900 37.54857635498047\n",
      "epoch 27 iteration 0 36.94917297363281\n",
      "epoch 27 iteration 300 37.681175231933594\n",
      "epoch 27 iteration 600 36.00927734375\n",
      "epoch 27 iteration 900 35.75988006591797\n",
      "epoch 28 iteration 0 35.20548629760742\n",
      "epoch 28 iteration 300 36.9501838684082\n",
      "epoch 28 iteration 600 37.38822937011719\n",
      "epoch 28 iteration 900 37.267433166503906\n",
      "epoch 29 iteration 0 35.36471176147461\n",
      "epoch 29 iteration 300 36.104225158691406\n",
      "epoch 29 iteration 600 37.485595703125\n",
      "epoch 29 iteration 900 38.2177734375\n",
      "594\n",
      "(594, 50)\n",
      "Wall time: 14min 5s\n"
     ]
    }
   ],
   "source": [
    "%%time\n",
    "from node2vec import node2vec\n",
    "Node2Vec_R = node2vec(data, train_data, filepath, node = \"region\")\n",
    "region2idx, idx2region, region_embedding = Node2Vec_R.get_vec(C = 6, K = 15, epoch = 3,\n",
    "                                                              MAX_VOCAB_SIZE = len(set(train_data[\"region\"])),\n",
    "                                                              EMBEDDING_SIZE = 50,\n",
    "                                                              batch_size = 64,\n",
    "                                                              lr = 0.001)\n",
    "print(len(region2idx))\n",
    "print(region_embedding.shape)"
   ]
  },
  {
   "cell_type": "code",
   "execution_count": 8,
   "id": "845c3059",
   "metadata": {},
   "outputs": [
    {
     "name": "stdout",
     "output_type": "stream",
     "text": [
      "region_embedding.shape =  (594, 50)\n",
      "594\n",
      "594\n"
     ]
    }
   ],
   "source": [
    "region_embedding = np.load(filepath +\"region\"+ 'embedding.npy')\n",
    "print(\"region_embedding.shape = \",region_embedding.shape)\n",
    "with open(filepath +\"region\"+'idx2node.pickle', 'rb') as f:\n",
    "    idx2region = pickle.load(f)\n",
    "print(len(idx2region))\n",
    "with open(filepath +\"region\"+'node2idx.pickle', 'rb') as f:\n",
    "    region2idx = pickle.load(f)\n",
    "print(len(region2idx))"
   ]
  },
  {
   "cell_type": "markdown",
   "id": "6ea07140",
   "metadata": {},
   "source": [
    "# weight matrix of dist-graph\n",
    "Calation the distance of between every 2 region as the weight of \"Region-Graph1\""
   ]
  },
  {
   "cell_type": "code",
   "execution_count": 9,
   "id": "c56f3716",
   "metadata": {},
   "outputs": [],
   "source": [
    "def distance_cal(regions_num, id2region):\n",
    "    distance_of_regions = np.zeros([regions_num, regions_num])\n",
    "    for i in tqdm(range(regions_num), ncols=80, colour = \"red\"):\n",
    "        for j in range(i):\n",
    "            gps_i = geohash.decode(id2region[i])\n",
    "            gps_j = geohash.decode(id2region[j])\n",
    "            if 0 < distance(gps_i, gps_j).m <30000:\n",
    "                distance_of_regions[i,j] = round(1/distance(gps_i, gps_j).m, 4)\n",
    "    distance_of_regions = distance_of_regions + distance_of_regions.T\n",
    "    distance_of_regions = distance_of_regions.astype(np.float32)\n",
    "    # normalization of every columns\n",
    "    for col in tqdm(range(regions_num), ncols=80, colour = \"red\"):\n",
    "        s = np.sum(distance_of_regions[:,col]**2)\n",
    "        if s != 0:\n",
    "            distance_of_regions[:,col] = distance_of_regions[:,col]/np.sqrt(s)\n",
    "        \n",
    "    return distance_of_regions"
   ]
  },
  {
   "cell_type": "code",
   "execution_count": 10,
   "id": "b34a666b",
   "metadata": {},
   "outputs": [
    {
     "name": "stderr",
     "output_type": "stream",
     "text": [
      "100%|\u001b[31m█████████████████████████████████████████\u001b[0m| 594/594 [00:44<00:00, 13.41it/s]\u001b[0m\n",
      "100%|\u001b[31m██████████████████████████████████████\u001b[0m| 594/594 [00:00<00:00, 18853.80it/s]\u001b[0m\n"
     ]
    }
   ],
   "source": [
    "dist_matrix = distance_cal(regions_num, idx2region)\n",
    "# save dist_matrix\n",
    "np.save(filepath+'dist_matrix.npy',dist_matrix)"
   ]
  },
  {
   "cell_type": "markdown",
   "id": "3c651ec9",
   "metadata": {},
   "source": [
    "# weight matrix of visit-graph\n",
    "Calculate the visit times between 2 regions in time_period as the weight of Graph2"
   ]
  },
  {
   "cell_type": "code",
   "execution_count": 11,
   "id": "e58be14d",
   "metadata": {},
   "outputs": [],
   "source": [
    "def covisit_cal(timedelta, data, regions_num, region2idx):\n",
    "    times_between_regions = np.zeros([regions_num, regions_num])\n",
    "    grouped = data.groupby(\"user\")\n",
    "    timedelta_ = datetime.timedelta(hours = 0)\n",
    "    for user,group in tqdm(grouped, ncols=80, colour = \"red\"):\n",
    "        group = group.sort_values('time')\n",
    "        group = group.reset_index()\n",
    "        for i in range(len(group)):\n",
    "            for j in range(i):\n",
    "                a = group.loc[i,\"region\"]\n",
    "                b = group.loc[j,\"region\"]\n",
    "                a = region2idx[a]\n",
    "                b = region2idx[b]\n",
    "                d = group.loc[i,\"time\"] - group.loc[j,\"time\"]\n",
    "                if timedelta_ < d < timedelta:\n",
    "                    d = d/np.timedelta64(1, 'h')\n",
    "                    times_between_regions[b,a]=times_between_regions[b,a]+1/d\n",
    "    times_between_regions = times_between_regions.astype(np.float32)\n",
    "    # normalization of every columns\n",
    "    for col in tqdm(range(regions_num), ncols=80, colour = \"red\"):\n",
    "        s = np.sum(times_between_regions[:,col]**2)\n",
    "        if s != 0:\n",
    "            times_between_regions[:,col] = times_between_regions[:,col]/np.sqrt(s)\n",
    "                \n",
    "    return times_between_regions"
   ]
  },
  {
   "cell_type": "code",
   "execution_count": 12,
   "id": "ddd0a95b",
   "metadata": {
    "scrolled": true
   },
   "outputs": [
    {
     "name": "stderr",
     "output_type": "stream",
     "text": [
      "100%|\u001b[31m███████████████████████████████████████\u001b[0m| 2256/2256 [01:28<00:00, 25.39it/s]\u001b[0m\n",
      "100%|\u001b[31m██████████████████████████████████████\u001b[0m| 594/594 [00:00<00:00, 37816.92it/s]\u001b[0m\n"
     ]
    }
   ],
   "source": [
    "max_timedelta = datetime.timedelta(days = 6)\n",
    "visit_matrix = covisit_cal(max_timedelta, train_data, regions_num, region2idx)\n",
    "# save dist_matrix\n",
    "np.save(filepath+'visit_matrix.npy',visit_matrix)"
   ]
  },
  {
   "cell_type": "code",
   "execution_count": 13,
   "id": "e6378807",
   "metadata": {},
   "outputs": [
    {
     "data": {
      "text/plain": [
       "0.99999994"
      ]
     },
     "execution_count": 13,
     "metadata": {},
     "output_type": "execute_result"
    }
   ],
   "source": [
    "np.sum(visit_matrix[:,1]**2)"
   ]
  },
  {
   "cell_type": "markdown",
   "id": "2c74780c",
   "metadata": {},
   "source": [
    "# weight matrix of visit-graph"
   ]
  },
  {
   "cell_type": "code",
   "execution_count": null,
   "id": "ddffb2e3",
   "metadata": {},
   "outputs": [],
   "source": [
    "def visit_num_cal(data, regions_num,region2idx):\n",
    "    visit_num_m = np.zeros([regions_num, regions_num])\n",
    "    grouped = data.groupby(\"region\")\n",
    "    for re,group in tqdm(grouped, ncols=80, colour=\"red\"):\n",
    "        ind = region2idx[re]\n",
    "        num = len(group)\n",
    "        visit_num_m[ind] += num\n",
    "    for col in tqdm(range(regions_num), ncols=80, colour = \"red\"):\n",
    "        s = np.sum(visit_num_m[:,col]**2)\n",
    "        if s != 0:\n",
    "            visit_num_m[:,col] = visit_num_m[:,col]/np.sqrt(s)\n",
    "    return visit_num_m"
   ]
  },
  {
   "cell_type": "code",
   "execution_count": null,
   "id": "fa4740a8",
   "metadata": {},
   "outputs": [],
   "source": [
    "visit_num_matrix = visit_num_cal(train_data, regions_num,region2idx)\n",
    "# save dist_matrix\n",
    "np.save(filepath+'visit_num_matrix.npy',visit_num_matrix)"
   ]
  },
  {
   "cell_type": "code",
   "execution_count": null,
   "id": "7f616360",
   "metadata": {},
   "outputs": [],
   "source": []
  }
 ],
 "metadata": {
  "kernelspec": {
   "display_name": "Python 3 (ipykernel)",
   "language": "python",
   "name": "python3"
  },
  "language_info": {
   "codemirror_mode": {
    "name": "ipython",
    "version": 3
   },
   "file_extension": ".py",
   "mimetype": "text/x-python",
   "name": "python",
   "nbconvert_exporter": "python",
   "pygments_lexer": "ipython3",
   "version": "3.9.7"
  },
  "toc": {
   "base_numbering": 1,
   "nav_menu": {},
   "number_sections": true,
   "sideBar": true,
   "skip_h1_title": false,
   "title_cell": "Table of Contents",
   "title_sidebar": "Contents",
   "toc_cell": false,
   "toc_position": {},
   "toc_section_display": true,
   "toc_window_display": false
  }
 },
 "nbformat": 4,
 "nbformat_minor": 5
}
